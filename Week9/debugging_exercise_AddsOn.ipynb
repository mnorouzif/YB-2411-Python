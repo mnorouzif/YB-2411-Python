{
 "cells": [
  {
   "cell_type": "markdown",
   "id": "08164e99",
   "metadata": {},
   "source": [
    "# Debugging in Python - Software Developer \n",
    "---\n",
    "## Learn how to debug Python programs efficiently!"
   ]
  },
  {
   "cell_type": "markdown",
   "id": "6d06664b",
   "metadata": {},
   "source": [
    "## Introduction\n",
    "Debugging is an essential skill for any programmer. This notebook will help you understand common debugging techniques in Python, including print debugging, using `pdb`, and logging.\n",
    "\n",
    "Let's get started!"
   ]
  },
  {
   "cell_type": "markdown",
   "id": "7089746b",
   "metadata": {},
   "source": [
    "## 1. Understanding Common Errors\n",
    "There are three main types of errors in Python:\n",
    "- **Syntax Errors**: These occur when the Python interpreter encounters an invalid statement.\n",
    "- **Runtime Errors**: These occur during execution (e.g., division by zero, accessing an undefined variable).\n",
    "- **Logical Errors**: These are the hardest to catch since the program runs but produces incorrect results."
   ]
  },
  {
   "cell_type": "code",
   "execution_count": null,
   "id": "b3b36445",
   "metadata": {},
   "outputs": [],
   "source": [
    "# Syntax Error Example\n",
    "print('Hello World'  # Missing closing parenthesis\n"
   ]
  },
  {
   "cell_type": "code",
   "execution_count": null,
   "id": "6d2ba1ba",
   "metadata": {},
   "outputs": [],
   "source": [
    "# Runtime Error Example\n",
    "x = 10 / 0  # Division by zero error\n"
   ]
  },
  {
   "cell_type": "code",
   "execution_count": null,
   "id": "74ea490e",
   "metadata": {},
   "outputs": [],
   "source": [
    "# Logical Error Example\n",
    "def add_numbers(a, b):\n",
    "    return a - b  # Incorrect operation (should be addition)\n",
    "\n",
    "print(add_numbers(5, 3))  # Expected 8, but will return 2"
   ]
  },
  {
   "cell_type": "markdown",
   "id": "2d770e05",
   "metadata": {},
   "source": [
    "## 2. Debugging with Print Statements\n",
    "A simple way to debug is by inserting print statements to check variable values at different points in the program."
   ]
  },
  {
   "cell_type": "code",
   "execution_count": null,
   "id": "87ab48da",
   "metadata": {},
   "outputs": [],
   "source": [
    "# Debugging with Print Statements\n",
    "def find_max(lst):\n",
    "    max_value = lst[0]\n",
    "    for num in lst:\n",
    "        print(f'Checking {num}, current max is {max_value}')\n",
    "        if num > max_value:\n",
    "            max_value = num\n",
    "    return max_value\n",
    "\n",
    "print(find_max([3, 1, 7, 5, 9, 2]))"
   ]
  },
  {
   "cell_type": "markdown",
   "id": "2e973639",
   "metadata": {},
   "source": [
    "## 3. Using Python's Built-in Debugger (`pdb`)\n",
    "The `pdb` module allows you to set breakpoints and step through code interactively."
   ]
  },
  {
   "cell_type": "code",
   "execution_count": null,
   "id": "b9a2c426",
   "metadata": {},
   "outputs": [],
   "source": [
    "import pdb\n",
    "\n",
    "def divide(a, b):\n",
    "    pdb.set_trace()  # Set a breakpoint\n",
    "    return a / b\n",
    "\n",
    "result = divide(10, 2)\n",
    "print(result)"
   ]
  },
  {
   "cell_type": "markdown",
   "id": "096488ca",
   "metadata": {},
   "source": [
    "## 4. Debugging with Logging\n",
    "Using the `logging` module is a better practice than print statements for debugging complex applications."
   ]
  },
  {
   "cell_type": "code",
   "execution_count": null,
   "id": "43badd4e",
   "metadata": {},
   "outputs": [],
   "source": [
    "import logging\n",
    "\n",
    "logging.basicConfig(level=logging.DEBUG, format='%(levelname)s: %(message)s')\n",
    "\n",
    "def multiply(a, b):\n",
    "    logging.debug(f'Multiplying {a} by {b}')\n",
    "    return a * b\n",
    "\n",
    "print(multiply(5, 4))"
   ]
  },
  {
   "cell_type": "markdown",
   "id": "2f7e2705",
   "metadata": {},
   "source": [
    "## 5. Hands-on Debugging Exercise\n",
    "Try to fix the following broken function:\n",
    "\n",
    "1. Identify the error.\n",
    "2. Use `print` or `pdb` to debug.\n",
    "3. Correct the issue and verify."
   ]
  },
  {
   "cell_type": "code",
   "execution_count": null,
   "id": "7dffd03c",
   "metadata": {},
   "outputs": [],
   "source": [
    "# Broken function: Fix it!\n",
    "def calculate_average(numbers):\n",
    "    total = 0\n",
    "    for num in numbers:\n",
    "        total += num\n",
    "    avg = total / len(numbers)  # Potential division by zero\n",
    "    return avg\n",
    "\n",
    "print(calculate_average([]))  # This will cause an error"
   ]
  }
 ],
 "metadata": {
  "language_info": {
   "name": "python"
  }
 },
 "nbformat": 4,
 "nbformat_minor": 5
}
