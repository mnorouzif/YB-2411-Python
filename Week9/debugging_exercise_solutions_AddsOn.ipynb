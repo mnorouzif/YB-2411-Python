{
 "cells": [
  {
   "cell_type": "markdown",
   "id": "523b3504",
   "metadata": {},
   "source": [
    "# Debugging Exercise Solutions\n",
    "---\n",
    "## Corrected Code"
   ]
  },
  {
   "cell_type": "markdown",
   "id": "ee35af88",
   "metadata": {},
   "source": [
    "### Solution 1: Off-by-One Error"
   ]
  },
  {
   "cell_type": "code",
   "execution_count": null,
   "id": "480427c6",
   "metadata": {},
   "outputs": [],
   "source": [
    "def sum_numbers(n):\n",
    "    total = 0\n",
    "    for i in range(1, n + 1):  # Fixed: Include n\n",
    "        total += i\n",
    "    return total\n",
    "\n",
    "print(sum_numbers(5))  # Correct output: 15"
   ]
  },
  {
   "cell_type": "markdown",
   "id": "aa342b23",
   "metadata": {},
   "source": [
    "### Solution 2: List Index Error"
   ]
  },
  {
   "cell_type": "code",
   "execution_count": null,
   "id": "46131dfa",
   "metadata": {},
   "outputs": [],
   "source": [
    "def get_last_item(lst):\n",
    "    return lst[len(lst) - 1]  # Fixed: Use len(lst) - 1\n",
    "\n",
    "print(get_last_item([1, 2, 3]))  # Correct output: 3"
   ]
  },
  {
   "cell_type": "markdown",
   "id": "ba4e87a5",
   "metadata": {},
   "source": [
    "### Solution 3: String Concatenation Error"
   ]
  },
  {
   "cell_type": "code",
   "execution_count": null,
   "id": "b8c734b2",
   "metadata": {},
   "outputs": [],
   "source": [
    "def greet_user(name, age):\n",
    "    return 'Hello ' + name + ', you are ' + str(age) + ' years old.'  # Fixed: Convert age to string\n",
    "\n",
    "print(greet_user('Alice', 25))  # Correct output: 'Hello Alice, you are 25 years old.'"
   ]
  },
  {
   "cell_type": "markdown",
   "id": "b318fa68",
   "metadata": {},
   "source": [
    "### Solution 4: Division by Zero"
   ]
  },
  {
   "cell_type": "code",
   "execution_count": null,
   "id": "124d1e39",
   "metadata": {},
   "outputs": [],
   "source": [
    "def safe_divide(a, b):\n",
    "    if b == 0:\n",
    "        return 'Error: Division by zero is not allowed!'\n",
    "    return a / b\n",
    "\n",
    "print(safe_divide(10, 0))  # Correct output: 'Error: Division by zero is not allowed!'"
   ]
  }
 ],
 "metadata": {},
 "nbformat": 4,
 "nbformat_minor": 5
}