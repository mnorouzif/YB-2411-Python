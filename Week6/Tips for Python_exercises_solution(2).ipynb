{
 "cells": [
  {
   "cell_type": "code",
   "execution_count": 1,
   "id": "a663efff-02f1-4c45-89e8-5c95d97f2ced",
   "metadata": {},
   "outputs": [
    {
     "data": {
      "text/plain": [
       "[{'First name': 'Bob', 'Last name': 'Temuri', 'age': 14}]"
      ]
     },
     "execution_count": 1,
     "metadata": {},
     "output_type": "execute_result"
    }
   ],
   "source": [
    "# extract information with age greater than 25 from the following list of dictionaries\n",
    "data = [{\"First name\": \"Alice\", \"Last name\": \"Feredi\", \"age\": 28}, {\"First name\": \"Bob\", \"Last name\": \"Temuri\", \"age\": 14}, {\"First name\": \"Daniel\", \"Last name\": \"American\", \"age\": 30}]\n",
    "extracted_data = [item for item in data if item['age'] <20]\n",
    "extracted_data"
   ]
  },
  {
   "cell_type": "code",
   "execution_count": 16,
   "id": "0f4208b6",
   "metadata": {},
   "outputs": [],
   "source": [
    "import pandas as pd"
   ]
  },
  {
   "cell_type": "code",
   "execution_count": 1,
   "id": "07bc372e-0bba-42aa-b92f-1821f664976e",
   "metadata": {},
   "outputs": [
    {
     "data": {
      "text/plain": [
       "[{'name': 'Alice', 'age': 28}, {'name': 'Charlie', 'age': 30}]"
      ]
     },
     "execution_count": 1,
     "metadata": {},
     "output_type": "execute_result"
    }
   ],
   "source": [
    "# extract information with age greater than 25 from the following list of dictionaries\n",
    "data = [{\"name\": \"Alice\", \"age\": 28}, {\"name\": \"Bob\", \"age\": 24}, {\"name\": \"Charlie\", \"age\": 30}]\n",
    "extracted_data = [item for item in data if item['age'] > 25]\n",
    "extracted_data"
   ]
  },
  {
   "cell_type": "code",
   "execution_count": 3,
   "id": "64f7802a",
   "metadata": {},
   "outputs": [],
   "source": [
    "# use list comprehension to flatten the matrix\n",
    "matrix = [[1, 2, 3], [4, 5, 6], [7, 8, 9]]"
   ]
  },
  {
   "cell_type": "code",
   "execution_count": 2,
   "id": "4d7663b4-e991-43a8-9f44-a37c1ad87b50",
   "metadata": {},
   "outputs": [
    {
     "data": {
      "text/plain": [
       "[1, 2, 3, 4, 5, 6, 7, 8, 9]"
      ]
     },
     "execution_count": 2,
     "metadata": {},
     "output_type": "execute_result"
    }
   ],
   "source": [
    "# use list comprehension to flatten the matrix\n",
    "matrix = [[1, 2, 3], [4, 5, 6], [7, 8, 9]]\n",
    "flattened_matrix = [num for row in matrix for num in row]\n",
    "flattened_matrix"
   ]
  },
  {
   "cell_type": "code",
   "execution_count": 4,
   "id": "68273075",
   "metadata": {},
   "outputs": [
    {
     "data": {
      "text/plain": [
       "[1, 4, 7]"
      ]
     },
     "execution_count": 4,
     "metadata": {},
     "output_type": "execute_result"
    }
   ],
   "source": [
    "# select data in the first column in the matrix\n",
    "first_column = [row[0]for row in matrix]\n",
    "first_column"
   ]
  },
  {
   "cell_type": "code",
   "execution_count": 5,
   "id": "467279c5",
   "metadata": {},
   "outputs": [
    {
     "data": {
      "text/plain": [
       "[[4, 5, 6], [7, 8, 9]]"
      ]
     },
     "execution_count": 5,
     "metadata": {},
     "output_type": "execute_result"
    }
   ],
   "source": [
    "# select data the last two rows\n",
    "\n",
    "new_df = matrix[1:] # or ... new_df = matrix[1:]\n",
    "new_df"
   ]
  },
  {
   "cell_type": "code",
   "execution_count": 8,
   "id": "40ab8c19-ad6c-4830-90aa-d30da64e2060",
   "metadata": {},
   "outputs": [
    {
     "data": {
      "text/plain": [
       "[[[1, 2, 3], [1, 2, 3], [1, 2, 3]],\n",
       " [[1, 2, 3], [1, 2, 3], [1, 2, 3]],\n",
       " [[1, 2, 3], [1, 2, 3], [1, 2, 3]]]"
      ]
     },
     "execution_count": 8,
     "metadata": {},
     "output_type": "execute_result"
    }
   ],
   "source": [
    "# how to flatten a 3d matrix\n",
    "D3_matrix = [[[1, 2, 3], [1, 2, 3], [1, 2, 3]], [[1, 2, 3], [1, 2, 3], [1, 2, 3]], [[1, 2, 3], [1, 2, 3], [1, 2, 3]]]\n",
    "D3_matrix\n"
   ]
  },
  {
   "cell_type": "code",
   "execution_count": 9,
   "id": "163bdfe0-c2c9-400c-b221-432f902aea57",
   "metadata": {},
   "outputs": [
    {
     "data": {
      "text/plain": [
       "[88, 92, 78, 65, 50, 94]"
      ]
     },
     "execution_count": 9,
     "metadata": {},
     "output_type": "execute_result"
    }
   ],
   "source": [
    "# use enumerate() for looping to add 5 extra point to each grade in the list, the 5th one add 10 \n",
    "grades = [88, 92, 78, 65, 50, 94]\n",
    "grades"
   ]
  },
  {
   "cell_type": "code",
   "execution_count": 10,
   "id": "cd080518-e3da-4460-806a-9cff1d0bd3d9",
   "metadata": {},
   "outputs": [
    {
     "data": {
      "text/plain": [
       "[93, 97, 83, 70, 60, 99]"
      ]
     },
     "execution_count": 10,
     "metadata": {},
     "output_type": "execute_result"
    }
   ],
   "source": [
    "for i, grade in enumerate(grades):\n",
    "    if i == 4:\n",
    "        grades[i] = grade + 10\n",
    "    else:\n",
    "        grades[i] = grade + 5\n",
    "\n",
    "grades"
   ]
  },
  {
   "cell_type": "markdown",
   "id": "a33afc7f",
   "metadata": {},
   "source": [
    "# print the grades if they are prime value \n",
    "# Prime value is a number that can only be divided by itself and 1"
   ]
  },
  {
   "cell_type": "code",
   "execution_count": 14,
   "id": "e7708aba-98ac-462f-ad9d-66472e54b252",
   "metadata": {},
   "outputs": [
    {
     "name": "stdout",
     "output_type": "stream",
     "text": [
      "3\n"
     ]
    }
   ],
   "source": [
    "grades = [88, 92, 3, 65, 50, 94, -10]\n",
    "for grade in grades:\n",
    "    if grade < 2:\n",
    "        continue\n",
    "    for i in range(2, grade):\n",
    "        if grade % i == 0:\n",
    "            break\n",
    "    else:\n",
    "        print(grade)\n"
   ]
  },
  {
   "cell_type": "code",
   "execution_count": 13,
   "id": "d069230f-2c5d-4c16-bbf9-576ffa3f7031",
   "metadata": {},
   "outputs": [],
   "source": [
    "# filter out elements depend on their index: \n",
    "# use list comprehension and enumerate() to get elements with even index\n",
    "data = [100, 200, 300, 400, 500]\n"
   ]
  },
  {
   "cell_type": "code",
   "execution_count": 14,
   "id": "19838113-b7ba-4901-a967-15542a582722",
   "metadata": {},
   "outputs": [
    {
     "data": {
      "text/plain": [
       "[100, 300, 500]"
      ]
     },
     "execution_count": 14,
     "metadata": {},
     "output_type": "execute_result"
    }
   ],
   "source": [
    "[item for i, item in enumerate(data) if i%2 == 0]"
   ]
  },
  {
   "cell_type": "code",
   "execution_count": null,
   "id": "d7fe199c-57e3-4ece-a93a-3672f2324e12",
   "metadata": {},
   "outputs": [],
   "source": []
  },
  {
   "cell_type": "code",
   "execution_count": 15,
   "id": "ebdc579d-5829-4204-9814-253753ea6766",
   "metadata": {},
   "outputs": [],
   "source": [
    "# create a dictionary from lists using zip()\n",
    "keys = ['name', 'age', 'grade']\n",
    "values = ['Alice', 25, 'A']"
   ]
  },
  {
   "cell_type": "code",
   "execution_count": 16,
   "id": "da23c662-0f96-4cd5-957d-736da08cc28e",
   "metadata": {},
   "outputs": [
    {
     "data": {
      "text/plain": [
       "{'name': 'Alice', 'age': 25, 'grade': 'A'}"
      ]
     },
     "execution_count": 16,
     "metadata": {},
     "output_type": "execute_result"
    }
   ],
   "source": [
    "{key: value for key, value in zip(keys, values)}"
   ]
  },
  {
   "cell_type": "code",
   "execution_count": null,
   "id": "26fd8ac3-0074-4d4b-a78c-aad59a418b38",
   "metadata": {},
   "outputs": [],
   "source": []
  },
  {
   "cell_type": "code",
   "execution_count": 17,
   "id": "96eabba4-1b73-40dd-80ad-de0f45bb4c81",
   "metadata": {},
   "outputs": [],
   "source": [
    "# sort the dictionary based on the ages using lambda\n",
    "students = [\n",
    "    {'name': \"John\", 'grade': \"A\", 'age': 20}, \n",
    "    {'name': \"Jane\", 'grade': \"B\", 'age': 21}, \n",
    "    {'name': \"Joss\", 'grade': \"A+\", 'age': 19}, \n",
    "    {'name': \"Jack\", 'grade': \"A-\", 'age': 16}, \n",
    "    {'name': \"Dave\", 'grade': \"C\", 'age': 25}, \n",
    "]"
   ]
  },
  {
   "cell_type": "code",
   "execution_count": 18,
   "id": "b87aa8ac-d3c2-4897-8a9e-4eea2a63fce7",
   "metadata": {},
   "outputs": [
    {
     "data": {
      "text/plain": [
       "[{'name': 'Jack', 'grade': 'A-', 'age': 16},\n",
       " {'name': 'Joss', 'grade': 'A+', 'age': 19},\n",
       " {'name': 'John', 'grade': 'A', 'age': 20},\n",
       " {'name': 'Jane', 'grade': 'B', 'age': 21},\n",
       " {'name': 'Dave', 'grade': 'C', 'age': 25}]"
      ]
     },
     "execution_count": 18,
     "metadata": {},
     "output_type": "execute_result"
    }
   ],
   "source": [
    "sorted(students, key=lambda student: student['age'])"
   ]
  },
  {
   "cell_type": "code",
   "execution_count": null,
   "id": "5fb3152c-ae30-4a0b-bd60-df57a7ee1d8f",
   "metadata": {},
   "outputs": [],
   "source": []
  },
  {
   "cell_type": "code",
   "execution_count": 21,
   "id": "1332bf19-f03a-4c5b-ac2f-c1fa58c54767",
   "metadata": {},
   "outputs": [],
   "source": [
    "# Sort by age, then by salary if ages are the same\n",
    "# use lambda\n",
    "employees = [\n",
    "    {'name': 'Alice', 'age': 30, 'salary': 80000},\n",
    "    {'name': 'Bob', 'age': 25, 'salary': 50000},\n",
    "    {'name': 'Charlie', 'age': 35, 'salary': 120000},\n",
    "    {'name': 'Charlie', 'age': 35, 'salary': 12000}\n",
    "]"
   ]
  },
  {
   "cell_type": "code",
   "execution_count": 22,
   "id": "6e99f536-cdd0-4e60-b846-7bb05c41dd6a",
   "metadata": {},
   "outputs": [
    {
     "data": {
      "text/plain": [
       "[{'name': 'Bob', 'age': 25, 'salary': 50000},\n",
       " {'name': 'Alice', 'age': 30, 'salary': 80000},\n",
       " {'name': 'Charlie', 'age': 35, 'salary': 12000},\n",
       " {'name': 'Charlie', 'age': 35, 'salary': 120000}]"
      ]
     },
     "execution_count": 22,
     "metadata": {},
     "output_type": "execute_result"
    }
   ],
   "source": [
    "sorted(employees, key=lambda employee: (employee['age'], employee['salary']))"
   ]
  },
  {
   "cell_type": "code",
   "execution_count": null,
   "id": "dac9b074-5e9a-41f3-bee9-b6d9857e798c",
   "metadata": {},
   "outputs": [],
   "source": []
  },
  {
   "cell_type": "code",
   "execution_count": 45,
   "id": "ad414ac1-a032-4d8e-a8ae-0d8180ffbeb6",
   "metadata": {},
   "outputs": [],
   "source": [
    "# Generators are highly useful in data-heavy applications:\n",
    "\n",
    "# Reading Large Files: Use generators to read large files line by line without loading the entire file into memory.\n",
    "# Data Streaming: Stream data entries for real-time data processing.\n",
    "# Large Calculations: Break down massive calculations into smaller, more manageable chunks."
   ]
  },
  {
   "cell_type": "code",
   "execution_count": 22,
   "id": "ed9e15c4-fb82-487b-a20c-66dd903b925c",
   "metadata": {},
   "outputs": [
    {
     "data": {
      "text/html": [
       "<div>\n",
       "<style scoped>\n",
       "    .dataframe tbody tr th:only-of-type {\n",
       "        vertical-align: middle;\n",
       "    }\n",
       "\n",
       "    .dataframe tbody tr th {\n",
       "        vertical-align: top;\n",
       "    }\n",
       "\n",
       "    .dataframe thead th {\n",
       "        text-align: right;\n",
       "    }\n",
       "</style>\n",
       "<table border=\"1\" class=\"dataframe\">\n",
       "  <thead>\n",
       "    <tr style=\"text-align: right;\">\n",
       "      <th></th>\n",
       "      <th>calories</th>\n",
       "      <th>duration</th>\n",
       "      <th>score</th>\n",
       "    </tr>\n",
       "  </thead>\n",
       "  <tbody>\n",
       "    <tr>\n",
       "      <th>0</th>\n",
       "      <td>321</td>\n",
       "      <td>50</td>\n",
       "      <td>55</td>\n",
       "    </tr>\n",
       "    <tr>\n",
       "      <th>1</th>\n",
       "      <td>380</td>\n",
       "      <td>40</td>\n",
       "      <td>90</td>\n",
       "    </tr>\n",
       "    <tr>\n",
       "      <th>2</th>\n",
       "      <td>390</td>\n",
       "      <td>45</td>\n",
       "      <td>85</td>\n",
       "    </tr>\n",
       "  </tbody>\n",
       "</table>\n",
       "</div>"
      ],
      "text/plain": [
       "   calories  duration  score\n",
       "0       321        50     55\n",
       "1       380        40     90\n",
       "2       390        45     85"
      ]
     },
     "execution_count": 22,
     "metadata": {},
     "output_type": "execute_result"
    }
   ],
   "source": [
    "# Create a Dataframe 3*3\n",
    "\n",
    "data = {\n",
    "  \"calories\": [321, 380, 390],\n",
    "  \"duration\": [50, 40, 45],\n",
    "  \"score\": [55, 90, 85]\n",
    "}\n",
    "\n",
    "#load data into a DataFrame object:\n",
    "df = pd.DataFrame(data)\n",
    "df"
   ]
  },
  {
   "cell_type": "code",
   "execution_count": null,
   "id": "2fe6ffb3",
   "metadata": {},
   "outputs": [],
   "source": [
    "display(df.loc[;    'duration'])"
   ]
  },
  {
   "cell_type": "markdown",
   "id": "d15d859d",
   "metadata": {},
   "source": [
    "Print data in the secound row and column in the data frame using loc() or iloc()"
   ]
  },
  {
   "cell_type": "code",
   "execution_count": 28,
   "id": "13fb6c88",
   "metadata": {},
   "outputs": [
    {
     "data": {
      "text/html": [
       "<div>\n",
       "<style scoped>\n",
       "    .dataframe tbody tr th:only-of-type {\n",
       "        vertical-align: middle;\n",
       "    }\n",
       "\n",
       "    .dataframe tbody tr th {\n",
       "        vertical-align: top;\n",
       "    }\n",
       "\n",
       "    .dataframe thead th {\n",
       "        text-align: right;\n",
       "    }\n",
       "</style>\n",
       "<table border=\"1\" class=\"dataframe\">\n",
       "  <thead>\n",
       "    <tr style=\"text-align: right;\">\n",
       "      <th></th>\n",
       "      <th>calories</th>\n",
       "      <th>duration</th>\n",
       "      <th>score</th>\n",
       "    </tr>\n",
       "  </thead>\n",
       "  <tbody>\n",
       "    <tr>\n",
       "      <th>1</th>\n",
       "      <td>380</td>\n",
       "      <td>40</td>\n",
       "      <td>90</td>\n",
       "    </tr>\n",
       "  </tbody>\n",
       "</table>\n",
       "</div>"
      ],
      "text/plain": [
       "   calories  duration  score\n",
       "1       380        40     90"
      ]
     },
     "metadata": {},
     "output_type": "display_data"
    }
   ],
   "source": [
    "# display(df.loc[2: 3]) \n",
    "display(df.iloc[[1]])"
   ]
  },
  {
   "cell_type": "code",
   "execution_count": 27,
   "id": "e65d69a7-a698-4bd6-909d-12c9336ced5e",
   "metadata": {},
   "outputs": [
    {
     "ename": "InvalidIndexError",
     "evalue": "(slice(None, None, None), slice(1, 2, None))",
     "output_type": "error",
     "traceback": [
      "\u001b[1;31m---------------------------------------------------------------------------\u001b[0m",
      "\u001b[1;31mKeyError\u001b[0m                                  Traceback (most recent call last)",
      "File \u001b[1;32mc:\\Users\\97833\\AppData\\Local\\anaconda3\\Lib\\site-packages\\pandas\\core\\indexes\\base.py:3805\u001b[0m, in \u001b[0;36mIndex.get_loc\u001b[1;34m(self, key)\u001b[0m\n\u001b[0;32m   3804\u001b[0m \u001b[38;5;28;01mtry\u001b[39;00m:\n\u001b[1;32m-> 3805\u001b[0m     \u001b[38;5;28;01mreturn\u001b[39;00m \u001b[38;5;28mself\u001b[39m\u001b[38;5;241m.\u001b[39m_engine\u001b[38;5;241m.\u001b[39mget_loc(casted_key)\n\u001b[0;32m   3806\u001b[0m \u001b[38;5;28;01mexcept\u001b[39;00m \u001b[38;5;167;01mKeyError\u001b[39;00m \u001b[38;5;28;01mas\u001b[39;00m err:\n",
      "File \u001b[1;32mindex.pyx:167\u001b[0m, in \u001b[0;36mpandas._libs.index.IndexEngine.get_loc\u001b[1;34m()\u001b[0m\n",
      "File \u001b[1;32mindex.pyx:196\u001b[0m, in \u001b[0;36mpandas._libs.index.IndexEngine.get_loc\u001b[1;34m()\u001b[0m\n",
      "File \u001b[1;32mpandas\\\\_libs\\\\hashtable_class_helper.pxi:7081\u001b[0m, in \u001b[0;36mpandas._libs.hashtable.PyObjectHashTable.get_item\u001b[1;34m()\u001b[0m\n",
      "File \u001b[1;32mpandas\\\\_libs\\\\hashtable_class_helper.pxi:7089\u001b[0m, in \u001b[0;36mpandas._libs.hashtable.PyObjectHashTable.get_item\u001b[1;34m()\u001b[0m\n",
      "\u001b[1;31mKeyError\u001b[0m: (slice(None, None, None), slice(1, 2, None))",
      "\nDuring handling of the above exception, another exception occurred:\n",
      "\u001b[1;31mInvalidIndexError\u001b[0m                         Traceback (most recent call last)",
      "Cell \u001b[1;32mIn[27], line 1\u001b[0m\n\u001b[1;32m----> 1\u001b[0m df2 \u001b[38;5;241m=\u001b[39m df[:,\u001b[38;5;241m1\u001b[39m:\u001b[38;5;241m2\u001b[39m]\n\u001b[0;32m      2\u001b[0m df2\n",
      "File \u001b[1;32mc:\\Users\\97833\\AppData\\Local\\anaconda3\\Lib\\site-packages\\pandas\\core\\frame.py:4102\u001b[0m, in \u001b[0;36mDataFrame.__getitem__\u001b[1;34m(self, key)\u001b[0m\n\u001b[0;32m   4100\u001b[0m \u001b[38;5;28;01mif\u001b[39;00m \u001b[38;5;28mself\u001b[39m\u001b[38;5;241m.\u001b[39mcolumns\u001b[38;5;241m.\u001b[39mnlevels \u001b[38;5;241m>\u001b[39m \u001b[38;5;241m1\u001b[39m:\n\u001b[0;32m   4101\u001b[0m     \u001b[38;5;28;01mreturn\u001b[39;00m \u001b[38;5;28mself\u001b[39m\u001b[38;5;241m.\u001b[39m_getitem_multilevel(key)\n\u001b[1;32m-> 4102\u001b[0m indexer \u001b[38;5;241m=\u001b[39m \u001b[38;5;28mself\u001b[39m\u001b[38;5;241m.\u001b[39mcolumns\u001b[38;5;241m.\u001b[39mget_loc(key)\n\u001b[0;32m   4103\u001b[0m \u001b[38;5;28;01mif\u001b[39;00m is_integer(indexer):\n\u001b[0;32m   4104\u001b[0m     indexer \u001b[38;5;241m=\u001b[39m [indexer]\n",
      "File \u001b[1;32mc:\\Users\\97833\\AppData\\Local\\anaconda3\\Lib\\site-packages\\pandas\\core\\indexes\\base.py:3811\u001b[0m, in \u001b[0;36mIndex.get_loc\u001b[1;34m(self, key)\u001b[0m\n\u001b[0;32m   3806\u001b[0m \u001b[38;5;28;01mexcept\u001b[39;00m \u001b[38;5;167;01mKeyError\u001b[39;00m \u001b[38;5;28;01mas\u001b[39;00m err:\n\u001b[0;32m   3807\u001b[0m     \u001b[38;5;28;01mif\u001b[39;00m \u001b[38;5;28misinstance\u001b[39m(casted_key, \u001b[38;5;28mslice\u001b[39m) \u001b[38;5;129;01mor\u001b[39;00m (\n\u001b[0;32m   3808\u001b[0m         \u001b[38;5;28misinstance\u001b[39m(casted_key, abc\u001b[38;5;241m.\u001b[39mIterable)\n\u001b[0;32m   3809\u001b[0m         \u001b[38;5;129;01mand\u001b[39;00m \u001b[38;5;28many\u001b[39m(\u001b[38;5;28misinstance\u001b[39m(x, \u001b[38;5;28mslice\u001b[39m) \u001b[38;5;28;01mfor\u001b[39;00m x \u001b[38;5;129;01min\u001b[39;00m casted_key)\n\u001b[0;32m   3810\u001b[0m     ):\n\u001b[1;32m-> 3811\u001b[0m         \u001b[38;5;28;01mraise\u001b[39;00m InvalidIndexError(key)\n\u001b[0;32m   3812\u001b[0m     \u001b[38;5;28;01mraise\u001b[39;00m \u001b[38;5;167;01mKeyError\u001b[39;00m(key) \u001b[38;5;28;01mfrom\u001b[39;00m \u001b[38;5;21;01merr\u001b[39;00m\n\u001b[0;32m   3813\u001b[0m \u001b[38;5;28;01mexcept\u001b[39;00m \u001b[38;5;167;01mTypeError\u001b[39;00m:\n\u001b[0;32m   3814\u001b[0m     \u001b[38;5;66;03m# If we have a listlike key, _check_indexing_error will raise\u001b[39;00m\n\u001b[0;32m   3815\u001b[0m     \u001b[38;5;66;03m#  InvalidIndexError. Otherwise we fall through and re-raise\u001b[39;00m\n\u001b[0;32m   3816\u001b[0m     \u001b[38;5;66;03m#  the TypeError.\u001b[39;00m\n",
      "\u001b[1;31mInvalidIndexError\u001b[0m: (slice(None, None, None), slice(1, 2, None))"
     ]
    }
   ],
   "source": []
  },
  {
   "cell_type": "code",
   "execution_count": null,
   "id": "11256002-68c2-4954-b14f-6822574718f1",
   "metadata": {},
   "outputs": [],
   "source": []
  },
  {
   "cell_type": "code",
   "execution_count": null,
   "id": "34203ad5-da1c-4742-bf73-b611f7e74476",
   "metadata": {},
   "outputs": [],
   "source": []
  }
 ],
 "metadata": {
  "kernelspec": {
   "display_name": "base",
   "language": "python",
   "name": "python3"
  },
  "language_info": {
   "codemirror_mode": {
    "name": "ipython",
    "version": 3
   },
   "file_extension": ".py",
   "mimetype": "text/x-python",
   "name": "python",
   "nbconvert_exporter": "python",
   "pygments_lexer": "ipython3",
   "version": "3.12.7"
  }
 },
 "nbformat": 4,
 "nbformat_minor": 5
}
